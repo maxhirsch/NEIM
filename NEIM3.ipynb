{
 "cells": [
  {
   "cell_type": "code",
   "execution_count": 1,
   "metadata": {},
   "outputs": [],
   "source": [
    "import numpy as np\n",
    "import torch\n",
    "import torch.nn as nn\n",
    "from scipy import interpolate\n",
    "import scipy\n",
    "import matplotlib.pyplot as plt\n",
    "from matplotlib import ticker, cm\n",
    "from tqdm import tqdm\n",
    "\n",
    "from vanilla_fem import *\n",
    "from pod_fem import *\n",
    "from deim_fem import *\n",
    "from neim_fem3 import *\n",
    "from other_functions import *"
   ]
  },
  {
   "cell_type": "markdown",
   "metadata": {},
   "source": [
    "## Parameters\n",
    "The parameters which we will let vary are $a$ so that\n",
    "$$\n",
    "    (a,) \\in \\mathbb{P} = [-0.5, 0.5].\n",
    "$$"
   ]
  },
  {
   "cell_type": "code",
   "execution_count": 2,
   "metadata": {},
   "outputs": [],
   "source": [
    "parameters = []\n",
    "for a in np.linspace(-0.5, 0.5, 10):\n",
    "    parameters.append((a,))\n",
    "\n",
    "b = 0.5\n",
    "c = 1\n",
    "A0 = 500\n",
    "M = 1\n",
    "L = 0.1\n",
    "\n",
    "# number of time steps and final time\n",
    "Nt = 80\n",
    "t_final = 4\n",
    "tVals = np.linspace(0, t_final, Nt)\n",
    "dt = tVals[1] - tVals[0] # delta t"
   ]
  },
  {
   "cell_type": "code",
   "execution_count": 3,
   "metadata": {},
   "outputs": [],
   "source": [
    "# define the mesh in space\n",
    "mesh, interior_point_coords = get_triangulation(refinements=5)\n",
    "\n",
    "# Get the finite element space, stiffness matrix, lumped mass matrix as a vector, and mass matrix\n",
    "Vh, stiffness_matrix, gamma, mass_matrix = calculate_basis_integrals(mesh)"
   ]
  },
  {
   "cell_type": "markdown",
   "metadata": {},
   "source": [
    "## Solve High Fidelity PDE\n",
    "Note that we only keep track of nodes in the interior of $\\Omega$ because we use homogeneous Dirichlet boundary conditions."
   ]
  },
  {
   "cell_type": "code",
   "execution_count": 4,
   "metadata": {
    "scrolled": true
   },
   "outputs": [
    {
     "name": "stdout",
     "output_type": "stream",
     "text": [
      "Computing scheme...\n"
     ]
    },
    {
     "name": "stderr",
     "output_type": "stream",
     "text": [
      "100%|█████████████████████████████████████████████████████████████████████████████████| 79/79 [00:00<00:00, 138.00it/s]\n"
     ]
    },
    {
     "name": "stdout",
     "output_type": "stream",
     "text": [
      "Computing scheme...\n"
     ]
    },
    {
     "name": "stderr",
     "output_type": "stream",
     "text": [
      "100%|█████████████████████████████████████████████████████████████████████████████████| 79/79 [00:00<00:00, 146.24it/s]\n"
     ]
    },
    {
     "name": "stdout",
     "output_type": "stream",
     "text": [
      "Computing scheme...\n"
     ]
    },
    {
     "name": "stderr",
     "output_type": "stream",
     "text": [
      "100%|█████████████████████████████████████████████████████████████████████████████████| 79/79 [00:00<00:00, 150.67it/s]\n"
     ]
    },
    {
     "name": "stdout",
     "output_type": "stream",
     "text": [
      "Computing scheme...\n"
     ]
    },
    {
     "name": "stderr",
     "output_type": "stream",
     "text": [
      "100%|█████████████████████████████████████████████████████████████████████████████████| 79/79 [00:00<00:00, 148.04it/s]\n"
     ]
    },
    {
     "name": "stdout",
     "output_type": "stream",
     "text": [
      "Computing scheme...\n"
     ]
    },
    {
     "name": "stderr",
     "output_type": "stream",
     "text": [
      "100%|█████████████████████████████████████████████████████████████████████████████████| 79/79 [00:00<00:00, 140.24it/s]\n"
     ]
    },
    {
     "name": "stdout",
     "output_type": "stream",
     "text": [
      "Computing scheme...\n"
     ]
    },
    {
     "name": "stderr",
     "output_type": "stream",
     "text": [
      "100%|█████████████████████████████████████████████████████████████████████████████████| 79/79 [00:00<00:00, 140.84it/s]\n"
     ]
    },
    {
     "name": "stdout",
     "output_type": "stream",
     "text": [
      "Computing scheme...\n"
     ]
    },
    {
     "name": "stderr",
     "output_type": "stream",
     "text": [
      "100%|█████████████████████████████████████████████████████████████████████████████████| 79/79 [00:00<00:00, 145.01it/s]\n"
     ]
    },
    {
     "name": "stdout",
     "output_type": "stream",
     "text": [
      "Computing scheme...\n"
     ]
    },
    {
     "name": "stderr",
     "output_type": "stream",
     "text": [
      "100%|█████████████████████████████████████████████████████████████████████████████████| 79/79 [00:00<00:00, 147.11it/s]\n"
     ]
    },
    {
     "name": "stdout",
     "output_type": "stream",
     "text": [
      "Computing scheme...\n"
     ]
    },
    {
     "name": "stderr",
     "output_type": "stream",
     "text": [
      "100%|█████████████████████████████████████████████████████████████████████████████████| 79/79 [00:00<00:00, 146.66it/s]\n"
     ]
    },
    {
     "name": "stdout",
     "output_type": "stream",
     "text": [
      "Computing scheme...\n"
     ]
    },
    {
     "name": "stderr",
     "output_type": "stream",
     "text": [
      "100%|█████████████████████████████████████████████████████████████████████████████████| 79/79 [00:00<00:00, 148.97it/s]\n"
     ]
    }
   ],
   "source": [
    "hf_solutions = []\n",
    "for (a,) in parameters:\n",
    "    # Get vectors for the components of matrices (flattened over space) \n",
    "    # over time with time 0 initialized.\n",
    "    Q1, Q2, p1, p2, r, num_interior_points = initialize_Q_flow(interior_point_coords, Nt, a, b, c, A0)\n",
    "\n",
    "    # solve the PDE (updates the entries of Q1, Q2, etc. within the function)\n",
    "    solve_Q_flow(Q1, Q2, p1, p2, r, gamma, stiffness_matrix, Nt, a, b, c, A0, M, L, dt)\n",
    "    \n",
    "    hf_solutions.append((Q1, Q2, p1, p2, r))"
   ]
  },
  {
   "cell_type": "markdown",
   "metadata": {},
   "source": [
    "## Compute POD Matrices"
   ]
  },
  {
   "cell_type": "code",
   "execution_count": 5,
   "metadata": {},
   "outputs": [],
   "source": [
    "Q1 = []\n",
    "Q2 = []\n",
    "p1 = []\n",
    "p2 = []\n",
    "r  = []\n",
    "for sol in hf_solutions:\n",
    "    Q1.append(sol[0])\n",
    "    Q2.append(sol[1])\n",
    "    p1.append(sol[2])\n",
    "    p2.append(sol[3])\n",
    "    r.append(sol[4])\n",
    "\n",
    "Q1 = np.concatenate(Q1, axis=0)\n",
    "Q2 = np.concatenate(Q2, axis=0)\n",
    "p1 = np.concatenate(p1, axis=0)\n",
    "p2 = np.concatenate(p2, axis=0)\n",
    "r  = np.concatenate(r, axis=0)\n",
    "\n",
    "max_rank = 5\n",
    "U_Q1, U_Q2, U_r = get_POD_matrices(Q1, Q2, r, max_rank)"
   ]
  },
  {
   "cell_type": "markdown",
   "metadata": {},
   "source": [
    "## Compare POD Solution to High Fidelity Solution (New Parameter)"
   ]
  },
  {
   "cell_type": "code",
   "execution_count": 6,
   "metadata": {},
   "outputs": [
    {
     "name": "stdout",
     "output_type": "stream",
     "text": [
      "Computing scheme...\n"
     ]
    },
    {
     "name": "stderr",
     "output_type": "stream",
     "text": [
      "100%|█████████████████████████████████████████████████████████████████████████████████| 79/79 [00:00<00:00, 145.03it/s]\n"
     ]
    },
    {
     "name": "stdout",
     "output_type": "stream",
     "text": [
      "Computing scheme...\n"
     ]
    },
    {
     "name": "stderr",
     "output_type": "stream",
     "text": [
      "100%|████████████████████████████████████████████████████████████████████████████████| 79/79 [00:00<00:00, 1357.07it/s]\n"
     ]
    },
    {
     "name": "stdout",
     "output_type": "stream",
     "text": [
      "Relative Error: 0.019050948314289433\n"
     ]
    }
   ],
   "source": [
    "a = -0.2\n",
    "\n",
    "Q1_, Q2_, p1_, p2_, r_, num_interior_points = initialize_Q_flow(interior_point_coords, Nt, a, b, c, A0)\n",
    "solve_Q_flow(Q1_, Q2_, p1_, p2_, r_, gamma, stiffness_matrix, Nt, a, b, c, A0, M, L, dt)\n",
    "\n",
    "Q1_pod, Q2_pod, p1_pod, p2_pod, r_pod = initialize_Q_flow_POD(Q1_, Q2_, p1_, p2_, r_, U_Q1, U_Q2, U_r)\n",
    "solve_Q_flow_POD(Q1_pod, Q2_pod, p1_pod, p2_pod, r_pod, gamma, stiffness_matrix, U_Q1, U_Q2, U_r, Nt, a, b, c, A0, M, L, dt)\n",
    "\n",
    "print(\"Relative Error:\", np.linalg.norm(Q1_ - (U_Q1 @ Q1_pod.T).T) / np.linalg.norm(Q1_))"
   ]
  },
  {
   "cell_type": "markdown",
   "metadata": {},
   "source": [
    "## Compute DEIM Operators"
   ]
  },
  {
   "cell_type": "code",
   "execution_count": 7,
   "metadata": {},
   "outputs": [],
   "source": [
    "deim_modes = 7\n",
    "\n",
    "nonlinearityQ = M * gamma.reshape(-1, 1) * np.concatenate([p1 * r, p2 * r], axis=0).T\n",
    "UN_Q, nQ_indices = get_DEIM_operators(nonlinearityQ, deim_modes)\n",
    "U_deimQ1 = U_Q1.T @ UN_Q\n",
    "U_deimQ2 = U_Q2.T @ UN_Q\n",
    "\n",
    "nonlinearityR = (2 * p1[:-1] * (Q1[1:] - Q1[:-1]) + 2 * p2[:-1] * (Q2[1:] - Q2[:-1])).T\n",
    "UN_R, nR_indices = get_DEIM_operators(nonlinearityR, deim_modes)\n",
    "U_deimR = U_r.T @ UN_R"
   ]
  },
  {
   "cell_type": "markdown",
   "metadata": {},
   "source": [
    "## Compare DEIM Solution to High Fidelity Solution (New Parameter)"
   ]
  },
  {
   "cell_type": "code",
   "execution_count": 8,
   "metadata": {},
   "outputs": [
    {
     "name": "stdout",
     "output_type": "stream",
     "text": [
      "Computing scheme...\n"
     ]
    },
    {
     "name": "stderr",
     "output_type": "stream",
     "text": [
      "100%|█████████████████████████████████████████████████████████████████████████████████| 79/79 [00:00<00:00, 130.80it/s]\n"
     ]
    },
    {
     "name": "stdout",
     "output_type": "stream",
     "text": [
      "Computing scheme...\n"
     ]
    },
    {
     "name": "stderr",
     "output_type": "stream",
     "text": [
      "100%|████████████████████████████████████████████████████████████████████████████████| 79/79 [00:00<00:00, 3949.16it/s]\n"
     ]
    },
    {
     "name": "stdout",
     "output_type": "stream",
     "text": [
      "Relative Error: 0.02106035786683805\n"
     ]
    }
   ],
   "source": [
    "a = -0.15\n",
    "\n",
    "Q1_, Q2_, p1_, p2_, r_, num_interior_points = initialize_Q_flow(interior_point_coords, Nt, a, b, c, A0)\n",
    "solve_Q_flow(Q1_, Q2_, p1_, p2_, r_, gamma, stiffness_matrix, Nt, a, b, c, A0, M, L, dt)\n",
    "\n",
    "Q1_deim, Q2_deim, p1_deimQ, p2_deimQ, p1_deimR, p2_deimR, r_deim = initialize_Q_flow_DEIM(Q1_, Q2_, p1_, p2_, r_, \n",
    "                                                                                          U_Q1, U_Q2, U_r, \n",
    "                                                                                          nQ_indices, nR_indices)\n",
    "solve_Q_flow_DEIM(Q1_deim, Q2_deim, p1_deimQ, p2_deimQ, p1_deimR, p2_deimR, r_deim, \n",
    "                    gamma, stiffness_matrix, \n",
    "                    U_Q1, U_Q2, U_r, U_deimQ1, U_deimQ2, U_deimR,\n",
    "                    nQ_indices, nR_indices,\n",
    "                    Nt, a, b, c, A0, M, L, dt)\n",
    "\n",
    "print(\"Relative Error:\", np.linalg.norm(Q1_ - (U_Q1 @ Q1_deim.T).T) / np.linalg.norm(Q1_))"
   ]
  },
  {
   "cell_type": "markdown",
   "metadata": {},
   "source": [
    "## Compute NEIM Operators"
   ]
  },
  {
   "cell_type": "markdown",
   "metadata": {},
   "source": [
    "### $Q$ Equation NEIM\n",
    "\n",
    "TODO: Generalize so that we only use data within 10 indices in time for each example (to cut down on computation time and reduce required capacity for neural nets)"
   ]
  },
  {
   "cell_type": "code",
   "execution_count": 9,
   "metadata": {},
   "outputs": [],
   "source": [
    "time_frequency = 1\n",
    "mu = []\n",
    "\"\"\"\n",
    "for (a, b, c) in parameters:\n",
    "    for t in range(0, 5, time_frequency):#Nt, time_frequency):\n",
    "        mu.append([t, a, b, c])\n",
    "\"\"\"\n",
    "for (a,) in parameters:\n",
    "    for t in range(0, Nt, time_frequency):\n",
    "        mu.append([t, a])\n",
    "mu = np.array(mu)\n",
    "\n",
    "num_time_params = len(range(0, Nt, time_frequency))"
   ]
  },
  {
   "cell_type": "code",
   "execution_count": null,
   "metadata": {},
   "outputs": [],
   "source": [
    "time_window = 10\n",
    "max_time = Nt\n",
    "\n",
    "ro_sols = np.zeros((mu.shape[0], time_window, 3*max_rank))\n",
    "f_NEIM  = np.zeros((mu.shape[0], time_window, 2*max_rank))\n",
    "\n",
    "# iterate over solution parameter\n",
    "for i, param1 in enumerate(mu):\n",
    "    Q1_, Q2_, _, _, r_ = hf_solutions[i // num_time_params]\n",
    "    Q1_, Q2_, r_ = Q1_[i % num_time_params], Q2_[i % num_time_params], r_[i % num_time_params]\n",
    "    \n",
    "    ro_sol = np.concatenate([Q1_ @ U_Q1, Q2_ @ U_Q2, r_ @ U_r])\n",
    "    \n",
    "    time_i = int(mu[i, 0] + 0.5)\n",
    "    time_j = 0\n",
    "    \n",
    "    # iterate over nonlinearity parameter\n",
    "    for j, param2 in enumerate(mu):\n",
    "        # evaluate Nonlinearity(solution(param1); param2)\n",
    "        if (i - j >= 0 and i - j <= time_i) or (i - j <= 0 and j - i <= max_time - time_i):\n",
    "            (t, a) = param2\n",
    "\n",
    "            Q = np.concatenate((\n",
    "                    np.concatenate((Q1_[:, None, None], Q2_[:, None, None]), axis=2),\n",
    "                    np.concatenate((Q2_[:, None, None], -Q1_[:, None, None]), axis=2),\n",
    "            ), axis=1)\n",
    "            PQ = P(Q, a, b, c, A0)\n",
    "            p1_ = PQ[:, 0, 0]\n",
    "            p2_ = PQ[:, 0, 1]\n",
    "\n",
    "            nonlinearityQ = M * np.concatenate([(gamma[None] * p1_ * r_) @ U_Q1, (gamma[None] * p2_ * r_) @ U_Q2], axis=1)\n",
    "            ro_sols[i, time_j] = ro_sol\n",
    "            f_NEIM[i, time_j] = nonlinearityQ.reshape(-1)\n",
    "            time_j += 1"
   ]
  },
  {
   "cell_type": "code",
   "execution_count": null,
   "metadata": {
    "scrolled": true
   },
   "outputs": [],
   "source": [
    "NQ_NEIM, _, _, _, _ = NEIM_Q(ro_sols, f_NEIM, mu, max_modes=7, train_loop_iterations=20000, theta_train_loop_iterations=30000)"
   ]
  },
  {
   "cell_type": "markdown",
   "metadata": {},
   "source": [
    "### $r$ Equation NEIM"
   ]
  },
  {
   "cell_type": "code",
   "execution_count": null,
   "metadata": {},
   "outputs": [],
   "source": [
    "time_frequency = 1\n",
    "mu = []\n",
    "\"\"\"\n",
    "for (a, b, c) in parameters:\n",
    "    for t in range(0, 5-1, time_frequency):#Nt-1, time_frequency):\n",
    "        mu.append([t, a, b, c])\n",
    "\"\"\"\n",
    "for (a,) in parameters:\n",
    "    for t in range(0, Nt-1, time_frequency):\n",
    "        mu.append([t, a])\n",
    "mu = np.array(mu)\n",
    "\n",
    "num_time_params = len(range(0, Nt-1, time_frequency))"
   ]
  },
  {
   "cell_type": "code",
   "execution_count": null,
   "metadata": {},
   "outputs": [],
   "source": [
    "ro_sols = np.zeros((mu.shape[0], 4*max_rank))\n",
    "f_NEIM  = np.zeros((mu.shape[0], mu.shape[0], max_rank))\n",
    "\n",
    "# iterate over solution parameter\n",
    "for i, param1 in enumerate(mu):\n",
    "    Q1_, Q2_, _, _, r_ = hf_solutions[i // num_time_params]\n",
    "    time_idx = i % num_time_params\n",
    "    \n",
    "    Q1_0, Q2_0, r_0 = Q1_[time_idx], Q2_[time_idx], r_[time_idx]\n",
    "    Q1_1, Q2_1, r_1 = Q1_[time_idx+1], Q2_[time_idx+1], r_[time_idx+1]\n",
    "    \n",
    "    ro_sols[i] = np.concatenate([Q1_1 @ U_Q1, Q1_0 @ U_Q1, Q2_1 @ U_Q2, Q2_0 @ U_Q2])\n",
    "    \n",
    "    # iterate over nonlinearity parameter\n",
    "    for j, param2 in enumerate(mu):\n",
    "        # evaluate Nonlinearity(solution(param1); param2)\n",
    "        (t, a) = param2\n",
    "        \n",
    "        Q = np.concatenate((\n",
    "                np.concatenate((Q1_0[:, None, None], Q2_0[:, None, None]), axis=2),\n",
    "                np.concatenate((Q2_0[:, None, None], -Q1_0[:, None, None]), axis=2),\n",
    "        ), axis=1)\n",
    "        PQ = P(Q, a, b, c, A0)\n",
    "        p1_ = PQ[:, 0, 0]\n",
    "        p2_ = PQ[:, 0, 1]\n",
    "        \n",
    "        nonlinearityR = (2 * p1_ * (Q1_1 - Q1_0) + 2 * p2_ * (Q2_1 - Q2_0)) @ U_r\n",
    "        f_NEIM[i, j] = nonlinearityR.reshape(-1)"
   ]
  },
  {
   "cell_type": "code",
   "execution_count": null,
   "metadata": {
    "scrolled": true
   },
   "outputs": [],
   "source": [
    "NR_NEIM, _, _, _, _ = NEIM_R(ro_sols, f_NEIM, mu, max_modes=7, train_loop_iterations=20000, theta_train_loop_iterations=30000)"
   ]
  },
  {
   "cell_type": "markdown",
   "metadata": {},
   "source": [
    "## Compare NEIM Solution to High Fidelity Solution (New Parameter)"
   ]
  },
  {
   "cell_type": "code",
   "execution_count": null,
   "metadata": {
    "scrolled": true
   },
   "outputs": [],
   "source": [
    "a = -0.15\n",
    "\n",
    "Q1_, Q2_, p1_, p2_, r_, num_interior_points = initialize_Q_flow(interior_point_coords, Nt, a, b, c, A0)\n",
    "solve_Q_flow(Q1_, Q2_, p1_, p2_, r_, gamma, stiffness_matrix, Nt, a, b, c, A0, M, L, dt)\n",
    "\n",
    "with torch.no_grad():\n",
    "\n",
    "    Q1_neim, Q2_neim, r_neim = initialize_Q_flow_NEIM(Q1_, Q2_, r_, U_Q1, U_Q2, U_r)\n",
    "\n",
    "    solve_Q_flow_NEIM(Q1_neim, Q2_neim, r_neim, \n",
    "                        gamma, stiffness_matrix, \n",
    "                        U_Q1, U_Q2, NQ_NEIM, NR_NEIM,\n",
    "                        Nt, a, b, c, A0, M, L, dt)\n",
    "\n",
    "print(\"Relative Error:\", np.linalg.norm(Q1_ - (U_Q1 @ Q1_neim.T).T) / np.linalg.norm(Q1_))"
   ]
  },
  {
   "cell_type": "markdown",
   "metadata": {},
   "source": [
    "## DEIM-NEIM Comparison"
   ]
  },
  {
   "cell_type": "code",
   "execution_count": null,
   "metadata": {},
   "outputs": [],
   "source": [
    "def solve_deim_neim(a=0., num_modes=-1):\n",
    "    assert -1 <= num_modes and num_modes <= deim_modes\n",
    "    if num_modes == -1:\n",
    "        num_modes = deim_modes\n",
    "    \n",
    "\n",
    "    Q1_, Q2_, p1_, p2_, r_, num_interior_points = initialize_Q_flow(interior_point_coords, Nt, a, b, c, A0)\n",
    "    solve_Q_flow(Q1_, Q2_, p1_, p2_, r_, gamma, stiffness_matrix, Nt, a, b, c, A0, M, L, dt)\n",
    "    \n",
    "    nonlinearityQ = M * gamma.reshape(-1, 1) * np.concatenate([p1 * r, p2 * r], axis=0).T\n",
    "    UN_Q, nQ_indices = get_DEIM_operators(nonlinearityQ, num_modes)\n",
    "    U_deimQ1 = U_Q1.T @ UN_Q\n",
    "    U_deimQ2 = U_Q2.T @ UN_Q\n",
    "\n",
    "    nonlinearityR = (2 * p1[:-1] * (Q1[1:] - Q1[:-1]) + 2 * p2[:-1] * (Q2[1:] - Q2[:-1])).T\n",
    "    UN_R, nR_indices = get_DEIM_operators(nonlinearityR, num_modes)\n",
    "    U_deimR = U_r.T @ UN_R\n",
    "\n",
    "    Q1_deim, Q2_deim, p1_deimQ, p2_deimQ, p1_deimR, p2_deimR, r_deim = initialize_Q_flow_DEIM(Q1_, Q2_, p1_, p2_, r_, \n",
    "                                                                                              U_Q1, U_Q2, U_r, \n",
    "                                                                                              nQ_indices[:num_modes], \n",
    "                                                                                              nR_indices[:num_modes])\n",
    "    \n",
    "    solve_Q_flow_DEIM(Q1_deim, Q2_deim, p1_deimQ, p2_deimQ, p1_deimR, p2_deimR, r_deim, \n",
    "                        gamma, stiffness_matrix, \n",
    "                        U_Q1, U_Q2, U_r, U_deimQ1, U_deimQ2, U_deimR,\n",
    "                        nQ_indices[:num_modes], nR_indices[:num_modes],\n",
    "                        Nt, a, b, c, A0, M, L, dt)\n",
    "\n",
    "    print(\"Relative Error (DEIM):\", np.linalg.norm(Q1_ - (U_Q1 @ Q1_deim.T).T))# / np.linalg.norm(Q1_))\n",
    "\n",
    "\n",
    "    with torch.no_grad():\n",
    "\n",
    "        Q1_neim, Q2_neim, r_neim = initialize_Q_flow_NEIM(Q1_, Q2_, r_, U_Q1, U_Q2, U_r)\n",
    "\n",
    "        solve_Q_flow_NEIM(Q1_neim, Q2_neim, r_neim, \n",
    "                            gamma, stiffness_matrix, \n",
    "                            U_Q1, U_Q2, lambda x, y: NQ_NEIM(x, y, num_modes), lambda x, y: NR_NEIM(x, y, num_modes),\n",
    "                            Nt, a, b, c, A0, M, L, dt)\n",
    "\n",
    "    print(\"Relative Error (NEIM):\", np.linalg.norm(Q1_ - (U_Q1 @ Q1_neim.T).T))# / np.linalg.norm(Q1_))\n",
    "    \n",
    "    return Q1_, Q2_, r_, Q1_deim, Q2_deim, r_deim, Q1_neim, Q2_neim, r_neim"
   ]
  },
  {
   "cell_type": "markdown",
   "metadata": {},
   "source": [
    "### Relative Error Over Time for Fixed $a$"
   ]
  },
  {
   "cell_type": "code",
   "execution_count": null,
   "metadata": {},
   "outputs": [],
   "source": [
    "Q1_, Q2_, r_, Q1_deim, Q2_deim, r_deim, Q1_neim, Q2_neim, r_neim = solve_deim_neim(0.0, 7)"
   ]
  },
  {
   "cell_type": "code",
   "execution_count": null,
   "metadata": {
    "scrolled": true
   },
   "outputs": [],
   "source": [
    "error_time_neim = [np.linalg.norm(Q1_[time] - (U_Q1 @ Q1_neim.T).T[time]) / np.linalg.norm(Q1_[time]) for time in range(Q1_.shape[0])]"
   ]
  },
  {
   "cell_type": "code",
   "execution_count": null,
   "metadata": {
    "scrolled": true
   },
   "outputs": [],
   "source": [
    "error_time_deim = [np.linalg.norm(Q1_[time] - (U_Q1 @ Q1_deim.T).T[time]) / np.linalg.norm(Q1_[time]) for time in range(Q1_.shape[0])]"
   ]
  },
  {
   "cell_type": "code",
   "execution_count": null,
   "metadata": {},
   "outputs": [],
   "source": [
    "plt.semilogy(tVals[:10], error_time_neim[:10], label=\"NEIM\")\n",
    "plt.semilogy(tVals[:10], error_time_deim[:10], label=\"DEIM\")\n",
    "plt.xlabel(\"$t$\")\n",
    "plt.ylabel(\"$Q_{11}$ Relative Error\")\n",
    "plt.legend()\n",
    "plt.show()"
   ]
  },
  {
   "cell_type": "code",
   "execution_count": null,
   "metadata": {},
   "outputs": [],
   "source": [
    "error_time_neim[:10], np.mean(error_time_neim[:10])"
   ]
  },
  {
   "cell_type": "markdown",
   "metadata": {},
   "source": [
    "### Total Relative Error Over $a$"
   ]
  },
  {
   "cell_type": "code",
   "execution_count": null,
   "metadata": {
    "scrolled": true
   },
   "outputs": [],
   "source": [
    "a_list = np.arange(-0.5, 0.55, 0.05)\n",
    "error_deim = []\n",
    "error_neim = []\n",
    "for a in a_list:\n",
    "    Q1_, Q2_, r_, Q1_deim, Q2_deim, r_deim, Q1_neim, Q2_neim, r_neim = solve_deim_neim(a)\n",
    "    error_deim.append(np.linalg.norm(Q1_ - (U_Q1 @ Q1_deim.T).T) / np.linalg.norm(Q1_))\n",
    "    error_neim.append(np.linalg.norm(Q1_ - (U_Q1 @ Q1_neim.T).T) / np.linalg.norm(Q1_))"
   ]
  },
  {
   "cell_type": "code",
   "execution_count": null,
   "metadata": {},
   "outputs": [],
   "source": [
    "plt.semilogy(a_list, error_deim, label=\"DEIM\")\n",
    "plt.semilogy(a_list, error_neim, label=\"NEIM\")\n",
    "plt.xlabel(\"$a$\")\n",
    "plt.ylabel(\"$Q_{11}$ Relative Error\")\n",
    "plt.legend()\n",
    "plt.show()"
   ]
  },
  {
   "cell_type": "markdown",
   "metadata": {},
   "source": [
    "### DEIM-NEIM Error Contour Plots for $Q_{11}$"
   ]
  },
  {
   "cell_type": "code",
   "execution_count": null,
   "metadata": {
    "scrolled": true
   },
   "outputs": [],
   "source": [
    "a_list = np.arange(-0.5, 0.55, 0.05)\n",
    "error_deim_contour = []\n",
    "error_neim_contour = []\n",
    "for a in a_list:\n",
    "    error_deim_contour.append([])\n",
    "    error_neim_contour.append([])\n",
    "    \n",
    "    Q1_, Q2_, r_, Q1_deim, Q2_deim, r_deim, Q1_neim, Q2_neim, r_neim = solve_deim_neim(a)\n",
    "    \n",
    "    for i, t in enumerate(tVals):\n",
    "        error_deim_contour[-1].append(np.linalg.norm(Q1_[i] - (U_Q1 @ Q1_deim.T).T[i]) / np.linalg.norm(Q1_[i]))\n",
    "        error_neim_contour[-1].append(np.linalg.norm(Q1_[i] - (U_Q1 @ Q1_neim.T).T[i]) / np.linalg.norm(Q1_[i]))\n",
    "\n",
    "a_contour, time_contour = np.meshgrid(tVals, a_list)"
   ]
  },
  {
   "cell_type": "code",
   "execution_count": null,
   "metadata": {},
   "outputs": [],
   "source": [
    "fig, ax = plt.subplots(1, 2)\n",
    "\n",
    "ax[0].contourf(a_contour, time_contour, error_deim_contour, locator=ticker.LogLocator(), vmin=np.min(error_deim_contour), vmax=np.max(error_neim_contour))\n",
    "ax[0].set_xlabel(\"Time $t$\")\n",
    "ax[0].set_ylabel(\"$a$\")\n",
    "ax[0].set_title(\"DEIM Relative Error\")\n",
    "\n",
    "cs = ax[1].contourf(a_contour, time_contour, error_neim_contour, locator=ticker.LogLocator())\n",
    "ax[1].set_xlabel(\"Time $t$\")\n",
    "ax[1].set_title(\"NEIM Relative Error\")\n",
    "ax[1].set_xlabel(\"Time $t$\")\n",
    "ax[1].scatter(np.array([9, 10, 0, 11, 15, 1, 8])*dt, np.array([0.5, 0.5, -0.5, 0.5, -0.5, -0.5, 0.388888888888]), s=100, color='r', marker=\"*\")\n",
    "ax[1].set_xlim(ax[0].get_xlim())\n",
    "ax[1].set_ylim(ax[0].get_ylim())\n",
    "plt.colorbar(cs)\n",
    "plt.show()"
   ]
  },
  {
   "cell_type": "code",
   "execution_count": null,
   "metadata": {},
   "outputs": [],
   "source": [
    "mu[720], mu[721], mu[0], mu[722], mu[15], mu[1], mu[640]"
   ]
  },
  {
   "cell_type": "markdown",
   "metadata": {},
   "source": [
    "### Error in Nonlinear Term (Not Error of Solution)"
   ]
  },
  {
   "cell_type": "code",
   "execution_count": null,
   "metadata": {},
   "outputs": [],
   "source": [
    "def solve_deim_neim_nonlinearities(a=0.):\n",
    "\n",
    "    Q1_, Q2_, p1_, p2_, r_, num_interior_points = initialize_Q_flow(interior_point_coords, Nt, a, b, c, A0)\n",
    "    solve_Q_flow(Q1_, Q2_, p1_, p2_, r_, gamma, stiffness_matrix, Nt, a, b, c, A0, M, L, dt)\n",
    "\n",
    "    Q1_deim, Q2_deim, p1_deimQ, p2_deimQ, p1_deimR, p2_deimR, r_deim = initialize_Q_flow_DEIM(Q1_, Q2_, p1_, p2_, r_, \n",
    "                                                                                              U_Q1, U_Q2, U_r, \n",
    "                                                                                              nQ_indices, nR_indices)\n",
    "    hfQ_nonlinearities = []\n",
    "    hfR_nonlinearities = []\n",
    "    deimQ_nonlinearities = []\n",
    "    deimR_nonlinearities = []\n",
    "    neimQ_nonlinearities = []\n",
    "    neimR_nonlinearities = []\n",
    "    for t in range(Q1_.shape[0]-1):\n",
    "        \n",
    "        g1 = M * gamma * p1_[t] * r_[t]\n",
    "        g2 = M * gamma * p2_[t] * r_[t]\n",
    "        Q_nonlinearity = np.concatenate((g1, g2))\n",
    "        R_nonlinearity = 2 * p1_[t] * (Q1_[t+1] - Q1_[t]) + 2 * p2_[t] * (Q2_[t+1] - Q2_[t])\n",
    "        \n",
    "        hfQ_nonlinearities.append(Q_nonlinearity)\n",
    "        hfR_nonlinearities.append(R_nonlinearity)\n",
    "        \n",
    "        Q1_t = (U_Q1 @ U_Q1.T @ Q1_[t].reshape(-1, 1)).reshape(-1)\n",
    "        Q2_t = (U_Q2 @ U_Q2.T @ Q2_[t].reshape(-1, 1)).reshape(-1)\n",
    "        \n",
    "        Q1_t1 = (U_Q1 @ U_Q1.T @ Q1_[t+1].reshape(-1, 1)).reshape(-1)\n",
    "        Q2_t1 = (U_Q2 @ U_Q2.T @ Q2_[t+1].reshape(-1, 1)).reshape(-1)\n",
    "        \n",
    "        Q_t = np.concatenate((\n",
    "                    np.concatenate((Q1_t[:, None, None], Q2_t[:, None, None]), axis=2),\n",
    "                    np.concatenate((Q2_t[:, None, None], -Q1_t[:, None, None]), axis=2),\n",
    "            ), axis=1)\n",
    "        PQ = P(Q_t, a, b, c, A0)\n",
    "        p1_t = PQ[:, 0, 0]\n",
    "        p2_t = PQ[:, 0, 1]\n",
    "        \n",
    "        g1 = M * U_Q1 @ U_deimQ1 @ (gamma[nQ_indices].reshape(-1, 1) * p1_t[nQ_indices].reshape(-1, 1) * (U_r[nQ_indices] @ U_r.T @ r_[t].reshape(-1, 1)))\n",
    "        g2 = M * U_Q2 @ U_deimQ2 @ (gamma[nQ_indices].reshape(-1, 1) * p2_t[nQ_indices].reshape(-1, 1) * (U_r[nQ_indices] @ U_r.T @ r_[t].reshape(-1, 1)))\n",
    "    \n",
    "        deimQ_nonlinearity = np.concatenate((g1.reshape(-1), g2.reshape(-1)))\n",
    "        deimR_nonlinearity = (U_r @ (U_deimR @ (2*(p1_t * (Q1_t1 - Q1_t))[nR_indices].reshape(-1, 1)\\\n",
    "                             + 2*(p2_t * (Q2_t1 - Q2_t))[nR_indices].reshape(-1, 1)))).reshape(-1)\n",
    "        \n",
    "        deimQ_nonlinearities.append(deimQ_nonlinearity)\n",
    "        deimR_nonlinearities.append(deimR_nonlinearity)\n",
    "\n",
    "        with torch.no_grad():\n",
    "            ro_sol = np.concatenate([U_Q1.T @ Q1_[t].reshape(-1, 1), U_Q2.T @ Q2_[t].reshape(-1, 1), U_r.T @ r_[t].reshape(-1, 1)], axis=0).reshape(-1)\n",
    "            neimQ_nonlinearity = (scipy.linalg.block_diag(U_Q1, U_Q2) @ NQ_NEIM(np.array([t, a]), ro_sol).reshape(-1, 1)).reshape(-1)\n",
    "            ro_sol = np.concatenate([U_Q1.T @ Q1_[t].reshape(-1, 1), U_Q1.T @ Q1_[t-1].reshape(-1, 1), \n",
    "                                     U_Q2.T @ Q2_[t].reshape(-1, 1), U_Q2.T @ Q2_[t-1].reshape(-1, 1)], axis=0).reshape(-1)\n",
    "            neimR_nonlinearity = (U_r @ NR_NEIM(np.array([t-1, a]), ro_sol).reshape(-1, 1)).reshape(-1)\n",
    "\n",
    "            neimQ_nonlinearities.append(neimQ_nonlinearity)\n",
    "            neimR_nonlinearities.append(neimR_nonlinearity)\n",
    "    \n",
    "    hfQ_nonlinearities = np.array(hfQ_nonlinearities)\n",
    "    hfR_nonlinearities = np.array(hfR_nonlinearities)\n",
    "    deimQ_nonlinearities = np.array(deimQ_nonlinearities)\n",
    "    deimR_nonlinearities = np.array(deimR_nonlinearities)\n",
    "    neimQ_nonlinearities = np.array(neimQ_nonlinearities)\n",
    "    neimR_nonlinearities = np.array(neimR_nonlinearities)\n",
    "    \n",
    "    return hfQ_nonlinearities, hfR_nonlinearities, deimQ_nonlinearities, deimR_nonlinearities, neimQ_nonlinearities, neimR_nonlinearities\n",
    "\n",
    "\n",
    "# a_list = np.arange(-0.5, 0.55, 0.05)\n",
    "# error_deim_contour = []\n",
    "# error_neim_contour = []\n",
    "# for a in a_list:\n",
    "#     error_deim_contour.append([])\n",
    "#     error_neim_contour.append([])\n",
    "    \n",
    "#     Q1_, Q2_, r_, Q1_deim, Q2_deim, r_deim, Q1_neim, Q2_neim, r_neim = solve_deim_neim(a)\n",
    "    \n",
    "#     for i, t in enumerate(tVals):\n",
    "#         error_deim_contour[-1].append(np.linalg.norm(Q1_[i] - (U_Q1 @ Q1_deim.T).T[i]) / np.linalg.norm(Q1_[i]))\n",
    "#         error_neim_contour[-1].append(np.linalg.norm(Q1_[i] - (U_Q1 @ Q1_neim.T).T[i]) / np.linalg.norm(Q1_[i]))\n",
    "\n",
    "# a_contour, time_contour = np.meshgrid(tVals, a_list)"
   ]
  },
  {
   "cell_type": "code",
   "execution_count": null,
   "metadata": {},
   "outputs": [],
   "source": [
    "hfQ_nonlinearities, hfR_nonlinearities, deimQ_nonlinearities, deimR_nonlinearities, neimQ_nonlinearities, neimR_nonlinearities = solve_deim_neim_nonlinearities(a=0.15)"
   ]
  },
  {
   "cell_type": "code",
   "execution_count": null,
   "metadata": {},
   "outputs": [],
   "source": [
    "for t in range(hfQ_nonlinearities.shape[0]):\n",
    "    print(\"DEIM:\", np.linalg.norm(hfR_nonlinearities[t] - deimR_nonlinearities[t]) / np.linalg.norm(hfR_nonlinearities[t]), \"\\tNEIM:\", np.linalg.norm(hfR_nonlinearities[t] - neimR_nonlinearities[t]) / np.linalg.norm(hfR_nonlinearities[t]))\n",
    "    print(\"DEIM:\", np.linalg.norm(hfQ_nonlinearities[t] - deimQ_nonlinearities[t]) / np.linalg.norm(hfQ_nonlinearities[t]), \"\\tNEIM:\", np.linalg.norm(hfQ_nonlinearities[t] - neimQ_nonlinearities[t]) / np.linalg.norm(hfQ_nonlinearities[t]))\n",
    "    print(\"\")"
   ]
  },
  {
   "cell_type": "markdown",
   "metadata": {},
   "source": [
    "### Error with respect to number of modes taken"
   ]
  },
  {
   "cell_type": "code",
   "execution_count": null,
   "metadata": {},
   "outputs": [],
   "source": [
    "f_NEIM"
   ]
  },
  {
   "cell_type": "code",
   "execution_count": null,
   "metadata": {},
   "outputs": [],
   "source": []
  }
 ],
 "metadata": {
  "kernelspec": {
   "display_name": "Python 3",
   "language": "python",
   "name": "python3"
  },
  "language_info": {
   "codemirror_mode": {
    "name": "ipython",
    "version": 3
   },
   "file_extension": ".py",
   "mimetype": "text/x-python",
   "name": "python",
   "nbconvert_exporter": "python",
   "pygments_lexer": "ipython3",
   "version": "3.7.2"
  }
 },
 "nbformat": 4,
 "nbformat_minor": 2
}
