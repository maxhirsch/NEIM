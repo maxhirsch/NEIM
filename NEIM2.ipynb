{
 "cells": [
  {
   "cell_type": "code",
   "execution_count": 1,
   "metadata": {},
   "outputs": [],
   "source": [
    "import numpy as np\n",
    "import torch\n",
    "import torch.nn as nn\n",
    "from scipy import interpolate\n",
    "import matplotlib.pyplot as plt\n",
    "from tqdm import tqdm\n",
    "\n",
    "from vanilla_fem import *\n",
    "from pod_fem import *\n",
    "from deim_fem import *\n",
    "from neim_fem2 import *\n",
    "from other_functions import *"
   ]
  },
  {
   "cell_type": "markdown",
   "metadata": {},
   "source": [
    "## Parameters\n",
    "The parameters which we will let vary are $a,b,c$ so that\n",
    "$$\n",
    "    (a, b, c) \\in \\mathbb{P} = [-0.5, 0.5]\\times[-0.5, 0.5]\\times[1,2].\n",
    "$$"
   ]
  },
  {
   "cell_type": "code",
   "execution_count": 2,
   "metadata": {},
   "outputs": [],
   "source": [
    "# model parameters\n",
    "parameters = []\n",
    "for a in np.linspace(-0.5, 0.5, 2):\n",
    "    for b in np.linspace(-0.5, 0.5, 2):\n",
    "        for c in np.linspace(1, 2, 2):\n",
    "            parameters.append((a, b, c))\n",
    "\n",
    "A0 = 500\n",
    "M = 1\n",
    "L = 0.1\n",
    "\n",
    "# number of time steps and final time\n",
    "Nt = 200\n",
    "t_final = 5\n",
    "tVals = np.linspace(0, t_final, Nt)\n",
    "dt = tVals[1] - tVals[0] # delta t"
   ]
  },
  {
   "cell_type": "code",
   "execution_count": 3,
   "metadata": {},
   "outputs": [],
   "source": [
    "# define the mesh in space\n",
    "mesh, interior_point_coords = get_triangulation(refinements=5)\n",
    "\n",
    "# Get the finite element space, stiffness matrix, lumped mass matrix as a vector, and mass matrix\n",
    "Vh, stiffness_matrix, gamma, mass_matrix = calculate_basis_integrals(mesh)"
   ]
  },
  {
   "cell_type": "markdown",
   "metadata": {},
   "source": [
    "## Solve High Fidelity PDE\n",
    "Note that we only keep track of nodes in the interior of $\\Omega$ because we use homogeneous Dirichlet boundary conditions."
   ]
  },
  {
   "cell_type": "code",
   "execution_count": 4,
   "metadata": {
    "scrolled": true
   },
   "outputs": [
    {
     "name": "stdout",
     "output_type": "stream",
     "text": [
      "Computing scheme...\n"
     ]
    },
    {
     "name": "stderr",
     "output_type": "stream",
     "text": [
      "100%|██████████████████████████████████████████████████████████████████████████████████████████| 199/199 [00:01<00:00, 103.16it/s]\n"
     ]
    },
    {
     "name": "stdout",
     "output_type": "stream",
     "text": [
      "Computing scheme...\n"
     ]
    },
    {
     "name": "stderr",
     "output_type": "stream",
     "text": [
      "100%|██████████████████████████████████████████████████████████████████████████████████████████| 199/199 [00:01<00:00, 106.57it/s]\n"
     ]
    },
    {
     "name": "stdout",
     "output_type": "stream",
     "text": [
      "Computing scheme...\n"
     ]
    },
    {
     "name": "stderr",
     "output_type": "stream",
     "text": [
      "100%|███████████████████████████████████████████████████████████████████████████████████████████| 199/199 [00:02<00:00, 96.09it/s]\n"
     ]
    },
    {
     "name": "stdout",
     "output_type": "stream",
     "text": [
      "Computing scheme...\n"
     ]
    },
    {
     "name": "stderr",
     "output_type": "stream",
     "text": [
      "100%|██████████████████████████████████████████████████████████████████████████████████████████| 199/199 [00:01<00:00, 108.16it/s]\n"
     ]
    },
    {
     "name": "stdout",
     "output_type": "stream",
     "text": [
      "Computing scheme...\n"
     ]
    },
    {
     "name": "stderr",
     "output_type": "stream",
     "text": [
      "100%|██████████████████████████████████████████████████████████████████████████████████████████| 199/199 [00:01<00:00, 109.46it/s]\n"
     ]
    },
    {
     "name": "stdout",
     "output_type": "stream",
     "text": [
      "Computing scheme...\n"
     ]
    },
    {
     "name": "stderr",
     "output_type": "stream",
     "text": [
      "100%|██████████████████████████████████████████████████████████████████████████████████████████| 199/199 [00:01<00:00, 112.51it/s]\n"
     ]
    },
    {
     "name": "stdout",
     "output_type": "stream",
     "text": [
      "Computing scheme...\n"
     ]
    },
    {
     "name": "stderr",
     "output_type": "stream",
     "text": [
      "100%|██████████████████████████████████████████████████████████████████████████████████████████| 199/199 [00:01<00:00, 111.20it/s]\n"
     ]
    },
    {
     "name": "stdout",
     "output_type": "stream",
     "text": [
      "Computing scheme...\n"
     ]
    },
    {
     "name": "stderr",
     "output_type": "stream",
     "text": [
      "100%|██████████████████████████████████████████████████████████████████████████████████████████| 199/199 [00:01<00:00, 109.22it/s]\n"
     ]
    }
   ],
   "source": [
    "hf_solutions = []\n",
    "for (a, b, c) in parameters:\n",
    "    # Get vectors for the components of matrices (flattened over space) \n",
    "    # over time with time 0 initialized.\n",
    "    Q1, Q2, p1, p2, r, num_interior_points = initialize_Q_flow(interior_point_coords, Nt, a, b, c, A0)\n",
    "\n",
    "    # solve the PDE (updates the entries of Q1, Q2, etc. within the function)\n",
    "    solve_Q_flow(Q1, Q2, p1, p2, r, gamma, stiffness_matrix, Nt, a, b, c, A0, M, L, dt)\n",
    "    \n",
    "    hf_solutions.append((Q1, Q2, p1, p2, r))"
   ]
  },
  {
   "cell_type": "markdown",
   "metadata": {},
   "source": [
    "## Compute POD Matrices"
   ]
  },
  {
   "cell_type": "code",
   "execution_count": 5,
   "metadata": {},
   "outputs": [],
   "source": [
    "Q1 = []\n",
    "Q2 = []\n",
    "p1 = []\n",
    "p2 = []\n",
    "r  = []\n",
    "for sol in hf_solutions:\n",
    "    Q1.append(sol[0])\n",
    "    Q2.append(sol[1])\n",
    "    p1.append(sol[2])\n",
    "    p2.append(sol[3])\n",
    "    r.append(sol[4])\n",
    "\n",
    "Q1 = np.concatenate(Q1, axis=0)\n",
    "Q2 = np.concatenate(Q2, axis=0)\n",
    "p1 = np.concatenate(p1, axis=0)\n",
    "p2 = np.concatenate(p2, axis=0)\n",
    "r  = np.concatenate(r, axis=0)\n",
    "\n",
    "max_rank = 5\n",
    "U_Q1, U_Q2, U_r = get_POD_matrices(Q1, Q2, r, max_rank)"
   ]
  },
  {
   "cell_type": "markdown",
   "metadata": {},
   "source": [
    "## Compare POD Solution to High Fidelity Solution (New Parameter)"
   ]
  },
  {
   "cell_type": "code",
   "execution_count": 6,
   "metadata": {},
   "outputs": [
    {
     "name": "stdout",
     "output_type": "stream",
     "text": [
      "Computing scheme...\n"
     ]
    },
    {
     "name": "stderr",
     "output_type": "stream",
     "text": [
      "100%|██████████████████████████████████████████████████████████████████████████████████████████| 199/199 [00:01<00:00, 105.99it/s]\n"
     ]
    },
    {
     "name": "stdout",
     "output_type": "stream",
     "text": [
      "Computing scheme...\n"
     ]
    },
    {
     "name": "stderr",
     "output_type": "stream",
     "text": [
      "100%|██████████████████████████████████████████████████████████████████████████████████████████| 199/199 [00:00<00:00, 790.00it/s]\n"
     ]
    },
    {
     "name": "stdout",
     "output_type": "stream",
     "text": [
      "Relative Error: 0.017428325319199647\n"
     ]
    }
   ],
   "source": [
    "a, b, c = -0.2, 0.2, 1.5\n",
    "\n",
    "Q1_, Q2_, p1_, p2_, r_, num_interior_points = initialize_Q_flow(interior_point_coords, Nt, a, b, c, A0)\n",
    "solve_Q_flow(Q1_, Q2_, p1_, p2_, r_, gamma, stiffness_matrix, Nt, a, b, c, A0, M, L, dt)\n",
    "\n",
    "Q1_pod, Q2_pod, p1_pod, p2_pod, r_pod = initialize_Q_flow_POD(Q1_, Q2_, p1_, p2_, r_, U_Q1, U_Q2, U_r)\n",
    "solve_Q_flow_POD(Q1_pod, Q2_pod, p1_pod, p2_pod, r_pod, gamma, stiffness_matrix, U_Q1, U_Q2, U_r, Nt, a, b, c, A0, M, L, dt)\n",
    "\n",
    "print(\"Relative Error:\", np.linalg.norm(Q1_ - (U_Q1 @ Q1_pod.T).T) / np.linalg.norm(Q1_))"
   ]
  },
  {
   "cell_type": "markdown",
   "metadata": {},
   "source": [
    "## Compute DEIM Operators"
   ]
  },
  {
   "cell_type": "code",
   "execution_count": 7,
   "metadata": {},
   "outputs": [],
   "source": [
    "deim_modes = 7\n",
    "\n",
    "nonlinearityQ = M * gamma.reshape(-1, 1) * np.concatenate([p1 * r, p2 * r], axis=0).T\n",
    "UN_Q, nQ_indices = get_DEIM_operators(nonlinearityQ, deim_modes)\n",
    "U_deimQ1 = U_Q1.T @ UN_Q\n",
    "U_deimQ2 = U_Q2.T @ UN_Q\n",
    "\n",
    "nonlinearityR = (2 * p1[:-1] * (Q1[1:] - Q1[:-1]) + 2 * p2[:-1] * (Q2[1:] - Q2[:-1])).T\n",
    "UN_R, nR_indices = get_DEIM_operators(nonlinearityR, deim_modes)\n",
    "U_deimR = U_r.T @ UN_R"
   ]
  },
  {
   "cell_type": "markdown",
   "metadata": {},
   "source": [
    "## Compare DEIM Solution to High Fidelity Solution (New Parameter)"
   ]
  },
  {
   "cell_type": "code",
   "execution_count": 8,
   "metadata": {},
   "outputs": [
    {
     "name": "stdout",
     "output_type": "stream",
     "text": [
      "Computing scheme...\n"
     ]
    },
    {
     "name": "stderr",
     "output_type": "stream",
     "text": [
      "100%|██████████████████████████████████████████████████████████████████████████████████████████| 199/199 [00:01<00:00, 106.55it/s]\n"
     ]
    },
    {
     "name": "stdout",
     "output_type": "stream",
     "text": [
      "Computing scheme...\n"
     ]
    },
    {
     "name": "stderr",
     "output_type": "stream",
     "text": [
      "100%|█████████████████████████████████████████████████████████████████████████████████████████| 199/199 [00:00<00:00, 3082.75it/s]\n"
     ]
    },
    {
     "name": "stdout",
     "output_type": "stream",
     "text": [
      "Relative Error: 0.017398615797489164\n"
     ]
    }
   ],
   "source": [
    "a, b, c = 0, 0, 1.5\n",
    "\n",
    "Q1_, Q2_, p1_, p2_, r_, num_interior_points = initialize_Q_flow(interior_point_coords, Nt, a, b, c, A0)\n",
    "solve_Q_flow(Q1_, Q2_, p1_, p2_, r_, gamma, stiffness_matrix, Nt, a, b, c, A0, M, L, dt)\n",
    "\n",
    "Q1_deim, Q2_deim, p1_deimQ, p2_deimQ, p1_deimR, p2_deimR, r_deim = initialize_Q_flow_DEIM(Q1_, Q2_, p1_, p2_, r_, \n",
    "                                                                                          U_Q1, U_Q2, U_r, \n",
    "                                                                                          nQ_indices, nR_indices)\n",
    "solve_Q_flow_DEIM(Q1_deim, Q2_deim, p1_deimQ, p2_deimQ, p1_deimR, p2_deimR, r_deim, \n",
    "                    gamma, stiffness_matrix, \n",
    "                    U_Q1, U_Q2, U_r, U_deimQ1, U_deimQ2, U_deimR,\n",
    "                    nQ_indices, nR_indices,\n",
    "                    Nt, a, b, c, A0, M, L, dt)\n",
    "\n",
    "print(\"Relative Error:\", np.linalg.norm(Q1_ - (U_Q1 @ Q1_deim.T).T) / np.linalg.norm(Q1_))"
   ]
  },
  {
   "cell_type": "markdown",
   "metadata": {},
   "source": [
    "## Compute NEIM Operators"
   ]
  },
  {
   "cell_type": "markdown",
   "metadata": {},
   "source": [
    "### $Q$ Equation NEIM"
   ]
  },
  {
   "cell_type": "code",
   "execution_count": 9,
   "metadata": {},
   "outputs": [],
   "source": [
    "time_frequency = 10\n",
    "mu = []\n",
    "for (a, b, c) in parameters:\n",
    "    for t in range(0, Nt, time_frequency):\n",
    "        mu.append([t, a, b, c])\n",
    "mu = np.array(mu)\n",
    "\n",
    "num_time_params = len(range(0, Nt-1, time_frequency))"
   ]
  },
  {
   "cell_type": "code",
   "execution_count": 10,
   "metadata": {},
   "outputs": [],
   "source": [
    "ro_sols = np.zeros((mu.shape[0], 3*max_rank))\n",
    "f_NEIM  = np.zeros((mu.shape[0], mu.shape[0], 2*max_rank))\n",
    "\n",
    "# iterate over solution parameter\n",
    "for i, param1 in enumerate(mu):\n",
    "    Q1_, Q2_, _, _, r_ = hf_solutions[i // num_time_params]\n",
    "    Q1_, Q2_, r_ = Q1_[i % num_time_params], Q2_[i % num_time_params], r_[i % num_time_params]\n",
    "    \n",
    "    ro_sols[i] = np.concatenate([Q1_ @ U_Q1, Q2_ @ U_Q2, r_ @ U_r])\n",
    "    \n",
    "    # iterate over nonlinearity parameter\n",
    "    for j, param2 in enumerate(mu):\n",
    "        # evaluate Nonlinearity(solution(param1); param2)\n",
    "        (t, a, b, c) = param2\n",
    "        \n",
    "        Q = np.concatenate((\n",
    "                np.concatenate((Q1_[:, None, None], Q2_[:, None, None]), axis=2),\n",
    "                np.concatenate((Q2_[:, None, None], -Q1_[:, None, None]), axis=2),\n",
    "        ), axis=1)\n",
    "        PQ = P(Q, a, b, c, A0)\n",
    "        p1_ = PQ[:, 0, 0]\n",
    "        p2_ = PQ[:, 0, 1]\n",
    "        \n",
    "        nonlinearityQ = M * np.concatenate([(gamma[None] * p1_ * r_) @ U_Q1, (gamma[None] * p2_ * r_) @ U_Q2], axis=1)\n",
    "        f_NEIM[i, j] = nonlinearityQ.reshape(-1)\n",
    "\n",
    "#ro_sols = (ro_sols - np.mean(ro_sols, axis=(0,1), keepdims=True)) / np.std(ro_sols, axis=(0,1), keepdims=True)"
   ]
  },
  {
   "cell_type": "code",
   "execution_count": 11,
   "metadata": {
    "scrolled": true
   },
   "outputs": [
    {
     "name": "stdout",
     "output_type": "stream",
     "text": [
      "100 Max Error: 0.034939279515320686 Mean Error: 0.0015995184296879448\n",
      "0 0.0011506466989221692\n",
      "100 1.3085581169637271e-08\n",
      "200 1.1749984083660281e-10\n",
      "300 1.1715551518157727e-10\n",
      "400 1.1715551439374466e-10\n",
      "500 1.1715551437051384e-10\n",
      "600 1.1715551437051384e-10\n",
      "700 1.1715551437051384e-10\n",
      "800 1.1715551437051384e-10\n",
      "900 1.1715551437051384e-10\n",
      "1000 1.1715551437051384e-10\n",
      "1100 1.1715551437051384e-10\n",
      "1200 1.1715551437051384e-10\n",
      "1300 1.1715551437051384e-10\n",
      "1400 1.1715551437051384e-10\n",
      "1500 1.1715551437051384e-10\n",
      "1600 1.1715551437051384e-10\n",
      "1700 1.1715551437051384e-10\n",
      "1800 1.1715551437051384e-10\n",
      "1900 1.1715551437051384e-10\n",
      "2000 1.1715551437051384e-10\n",
      "2100 1.1715551437051384e-10\n",
      "2200 1.1715551437051384e-10\n",
      "2300 1.1715551437051384e-10\n",
      "2400 1.1715551437051384e-10\n",
      "2500 1.1715551437051384e-10\n",
      "2600 1.1715551437051384e-10\n",
      "2700 1.1715551437051384e-10\n",
      "2800 1.1715551437051384e-10\n",
      "2900 1.1715551437051384e-10\n",
      "Mean Already Selected Error: 6.500142829882783e-11\n",
      "141 Max Error: 0.00127589036927408 Mean Error: 0.00015690662807226263\n",
      "0 0.0009972060803628258\n",
      "100 2.663094506755542e-09\n",
      "200 8.978347090880158e-15\n",
      "300 3.745146103698713e-17\n",
      "400 6.4136278553869e-18\n",
      "500 4.574544743760643e-18\n",
      "600 3.880572094968913e-18\n",
      "700 3.880572094968913e-18\n",
      "800 3.880572094968913e-18\n",
      "900 3.880572094968913e-18\n",
      "1000 3.880572094968913e-18\n",
      "1100 3.880572094968913e-18\n",
      "1200 3.880572094968913e-18\n",
      "1300 3.880572094968913e-18\n",
      "1400 3.880572094968913e-18\n",
      "1500 3.880572094968913e-18\n",
      "1600 3.880572094968913e-18\n",
      "1700 3.880572094968913e-18\n",
      "1800 3.880572094968913e-18\n",
      "1900 3.880572094968913e-18\n",
      "2000 3.880572094968913e-18\n",
      "2100 3.880572094968913e-18\n",
      "2200 3.880572094968913e-18\n",
      "2300 3.880572094968913e-18\n",
      "2400 3.880572094968913e-18\n",
      "2500 3.880572094968913e-18\n",
      "2600 3.880572094968913e-18\n",
      "2700 3.880572094968913e-18\n",
      "2800 3.880572094968913e-18\n",
      "2900 3.880572094968913e-18\n",
      "\n",
      "Finding theta...\n",
      "Mean Already Selected Error: 3.2456044808826717e-11\n",
      "20 Max Error: 0.00028910989194608775 Mean Error: 5.383912338597743e-05\n",
      "0 0.0007176878860103655\n",
      "100 3.876979657798964e-09\n",
      "200 1.4946228117321163e-13\n",
      "300 1.682350878007837e-14\n",
      "400 1.681429244281152e-14\n",
      "500 1.681121848020255e-14\n",
      "600 1.6810061507585757e-14\n",
      "700 1.6810061493709356e-14\n",
      "800 1.6810061493709356e-14\n",
      "900 1.6810061493709356e-14\n",
      "1000 1.6810061493709356e-14\n",
      "1100 1.6810061493709356e-14\n",
      "1200 1.6810061493709356e-14\n",
      "1300 1.6810061493709356e-14\n",
      "1400 1.6810061493709356e-14\n",
      "1500 1.6810061493709356e-14\n",
      "1600 1.6810061493709356e-14\n",
      "1700 1.6810061493709356e-14\n",
      "1800 1.6810061493709356e-14\n",
      "1900 1.6810061493709356e-14\n",
      "2000 1.6810061493709356e-14\n",
      "2100 1.6810061493709356e-14\n",
      "2200 1.6810061493709356e-14\n",
      "2300 1.6810061493709356e-14\n",
      "2400 1.6810061493709356e-14\n",
      "2500 1.6810061493709356e-14\n",
      "2600 1.6810061493709356e-14\n",
      "2700 1.6810061493709356e-14\n",
      "2800 1.6810061493709356e-14\n",
      "2900 1.6810061493709356e-14\n",
      "\n",
      "Finding theta...\n"
     ]
    }
   ],
   "source": [
    "NQ_NEIM, _, _, _, _ = NEIM_Q(ro_sols, f_NEIM, mu, max_modes=3, train_loop_iterations=3000)"
   ]
  },
  {
   "cell_type": "code",
   "execution_count": 12,
   "metadata": {},
   "outputs": [
    {
     "data": {
      "text/plain": [
       "array([ 0. ,  0.5, -0.5,  2. ])"
      ]
     },
     "execution_count": 12,
     "metadata": {},
     "output_type": "execute_result"
    }
   ],
   "source": [
    "mu[100]"
   ]
  },
  {
   "cell_type": "code",
   "execution_count": 13,
   "metadata": {},
   "outputs": [
    {
     "data": {
      "text/plain": [
       "(4.2969644858642865e-05, 8.031908213867319e-06)"
      ]
     },
     "execution_count": 13,
     "metadata": {},
     "output_type": "execute_result"
    }
   ],
   "source": [
    "(np.linalg.norm(NQ_NEIM(np.array([0.0, 0.5, -0.5, 2]), ro_sols[[100]]) - f_NEIM[100, 100]) / np.linalg.norm(f_NEIM[100, 100]),\n",
    "  np.linalg.norm(NQ_NEIM(np.array([0.0, 0.5, -0.5, 2]), ro_sols[[100]]) - f_NEIM[100, 100]))"
   ]
  },
  {
   "cell_type": "code",
   "execution_count": 14,
   "metadata": {},
   "outputs": [
    {
     "data": {
      "text/plain": [
       "(array([-0.09278623, -0.06521712, -0.03681794,  0.02702244,  0.00824505,\n",
       "        -0.12329852, -0.02897234, -0.04548568, -0.02107722,  0.03698445]),\n",
       " array([-0.09278246, -0.06521428, -0.03681624,  0.02702122,  0.00824467,\n",
       "        -0.12329334, -0.02897105, -0.04548348, -0.0210762 ,  0.03698262],\n",
       "       dtype=float32))"
      ]
     },
     "execution_count": 14,
     "metadata": {},
     "output_type": "execute_result"
    }
   ],
   "source": [
    "f_NEIM[100, 100], NQ_NEIM(np.array([0.0, 0.5, -0.5, 2]), ro_sols[[100]])"
   ]
  },
  {
   "cell_type": "markdown",
   "metadata": {},
   "source": [
    "### $r$ Equation NEIM"
   ]
  },
  {
   "cell_type": "code",
   "execution_count": 15,
   "metadata": {},
   "outputs": [],
   "source": [
    "time_frequency = 10\n",
    "mu = []\n",
    "for (a, b, c) in parameters:\n",
    "    for t in range(0, Nt-1, time_frequency):\n",
    "        mu.append([t, a, b, c])\n",
    "mu = np.array(mu)\n",
    "\n",
    "num_time_params = len(range(0, Nt-1, time_frequency))"
   ]
  },
  {
   "cell_type": "code",
   "execution_count": 16,
   "metadata": {},
   "outputs": [],
   "source": [
    "ro_sols = np.zeros((mu.shape[0], 4*max_rank))\n",
    "f_NEIM  = np.zeros((mu.shape[0], mu.shape[0], max_rank))\n",
    "\n",
    "# iterate over solution parameter\n",
    "for i, param1 in enumerate(mu):\n",
    "    Q1_, Q2_, _, _, r_ = hf_solutions[i // num_time_params]\n",
    "    time_idx = i % num_time_params\n",
    "    \n",
    "    Q1_0, Q2_0, r_0 = Q1_[time_idx], Q2_[time_idx], r_[time_idx]\n",
    "    Q1_1, Q2_1, r_1 = Q1_[time_idx+1], Q2_[time_idx+1], r_[time_idx+1]\n",
    "    \n",
    "    ro_sols[i] = np.concatenate([Q1_1 @ U_Q1, Q1_0 @ U_Q1, Q2_1 @ U_Q2, Q2_0 @ U_Q2])\n",
    "    \n",
    "    # iterate over nonlinearity parameter\n",
    "    for j, param2 in enumerate(mu):\n",
    "        # evaluate Nonlinearity(solution(param1); param2)\n",
    "        (t, a, b, c) = param2\n",
    "        \n",
    "        Q = np.concatenate((\n",
    "                np.concatenate((Q1_0[:, None, None], Q2_0[:, None, None]), axis=2),\n",
    "                np.concatenate((Q2_0[:, None, None], -Q1_0[:, None, None]), axis=2),\n",
    "        ), axis=1)\n",
    "        PQ = P(Q, a, b, c, A0)\n",
    "        p1_ = PQ[:, 0, 0]\n",
    "        p2_ = PQ[:, 0, 1]\n",
    "        \n",
    "        nonlinearityR = (2 * p1_ * (Q1_1 - Q1_0) + 2 * p2_ * (Q2_1 - Q2_0)) @ U_r\n",
    "        f_NEIM[i, j] = nonlinearityR.reshape(-1)\n",
    "\n",
    "#ro_sols = (ro_sols - np.mean(ro_sols, axis=(0,1), keepdims=True)) / np.std(ro_sols, axis=(0,1), keepdims=True)"
   ]
  },
  {
   "cell_type": "code",
   "execution_count": 17,
   "metadata": {
    "scrolled": true
   },
   "outputs": [
    {
     "name": "stdout",
     "output_type": "stream",
     "text": [
      "100 Max Error: 0.6887720783130706 Mean Error: 0.017199202483429876\n",
      "0 0.0018829615268406655\n",
      "100 4.6572966387292526e-08\n",
      "200 2.5670705200649328e-08\n",
      "300 2.478873977981283e-08\n",
      "400 2.3949146999044734e-08\n",
      "500 2.316230708266722e-08\n",
      "600 2.2422989883486037e-08\n",
      "700 2.1722352241777383e-08\n",
      "800 2.1052126406200016e-08\n",
      "900 2.040568691778705e-08\n",
      "1000 1.9778054158505538e-08\n",
      "1100 1.9165542929703883e-08\n",
      "1200 1.8565456906071942e-08\n",
      "1300 1.797594759320119e-08\n",
      "1400 1.7395596089657917e-08\n",
      "1500 1.682343755644078e-08\n",
      "1600 1.6258715464883917e-08\n",
      "1700 1.570097442419294e-08\n",
      "1800 1.514981867496377e-08\n",
      "1900 1.4604961490065678e-08\n",
      "2000 1.406617480548038e-08\n",
      "2100 1.353327806135957e-08\n",
      "2200 1.3006111256385e-08\n",
      "2300 1.2484621799003809e-08\n",
      "2400 1.1968739826769807e-08\n",
      "2500 1.1458518988750927e-08\n",
      "2600 1.0954084114514194e-08\n",
      "2700 1.0455686939544566e-08\n",
      "2800 9.963745570818268e-09\n",
      "2900 9.478801476564146e-09\n",
      "Mean Already Selected Error: 4.153312159294982e-10\n",
      "101 Max Error: 0.024827026768983896 Mean Error: 0.0009453568209928132\n",
      "0 0.0016217363152092367\n",
      "100 3.590256856391236e-09\n",
      "200 4.0820381700087234e-10\n",
      "300 4.0691143716829906e-10\n",
      "400 4.0585137465146923e-10\n",
      "500 4.0462425553477565e-10\n",
      "600 4.032386815308956e-10\n",
      "700 4.016933603258803e-10\n",
      "800 4.0000231279412116e-10\n",
      "900 3.9816952178831177e-10\n",
      "1000 3.9619369567342027e-10\n",
      "1100 3.9406543598553746e-10\n",
      "1200 3.91792404879468e-10\n",
      "1300 3.8937911703298686e-10\n",
      "1400 3.8681373447515113e-10\n",
      "1500 3.840975698201742e-10\n",
      "1600 3.8123282906884224e-10\n",
      "1700 3.78221406164306e-10\n",
      "1800 3.7505847768581825e-10\n",
      "1900 3.7174891746139886e-10\n",
      "2000 3.682855005291459e-10\n",
      "2100 3.6466644611581963e-10\n",
      "2200 3.6089831068217966e-10\n",
      "2300 3.5697423338413975e-10\n",
      "2400 3.528881973303436e-10\n",
      "2500 3.486514115183707e-10\n",
      "2600 3.442540142531356e-10\n",
      "2700 3.3970078915619097e-10\n",
      "2800 3.349996694038186e-10\n",
      "2900 3.301458013843941e-10\n",
      "\n",
      "Finding theta...\n",
      "Mean Already Selected Error: 2.037110777072647e-10\n",
      "20 Max Error: 0.0009752546778879918 Mean Error: 5.1808388139749476e-05\n",
      "0 0.002241627115885435\n",
      "100 4.0697623143009204e-07\n",
      "200 3.7853102906316226e-07\n",
      "300 3.540040326171796e-07\n",
      "400 2.9000963226902643e-07\n",
      "500 2.5617228182269643e-07\n",
      "600 2.3517970299519433e-07\n",
      "700 2.157321465233884e-07\n",
      "800 1.9796238996536469e-07\n",
      "900 1.8243177361821658e-07\n",
      "1000 1.6790486478000265e-07\n",
      "1100 1.5364247246026988e-07\n",
      "1200 1.3977106017841623e-07\n",
      "1300 1.2675727405921678e-07\n",
      "1400 1.1429454792965444e-07\n",
      "1500 1.0297699072798804e-07\n",
      "1600 9.252932247906326e-08\n",
      "1700 8.296435381821109e-08\n",
      "1800 7.438553692525725e-08\n",
      "1900 6.635462497551972e-08\n",
      "2000 5.92125425144399e-08\n",
      "2100 5.2639889401734096e-08\n",
      "2200 4.656622014451148e-08\n",
      "2300 4.1043522402725626e-08\n",
      "2400 3.630638760216998e-08\n",
      "2500 3.240253774042603e-08\n",
      "2600 2.9197286106405978e-08\n",
      "2700 2.6366794823929476e-08\n",
      "2800 2.4016167537623324e-08\n",
      "2900 2.193244104610534e-08\n",
      "\n",
      "Finding theta...\n"
     ]
    }
   ],
   "source": [
    "NR_NEIM, _, _, _, _ = NEIM_R(ro_sols, f_NEIM, mu, max_modes=3, train_loop_iterations=3000)"
   ]
  },
  {
   "cell_type": "code",
   "execution_count": 18,
   "metadata": {},
   "outputs": [
    {
     "data": {
      "text/plain": [
       "array([ 0. ,  0.5, -0.5,  2. ])"
      ]
     },
     "execution_count": 18,
     "metadata": {},
     "output_type": "execute_result"
    }
   ],
   "source": [
    "mu[100]"
   ]
  },
  {
   "cell_type": "code",
   "execution_count": 24,
   "metadata": {},
   "outputs": [
    {
     "data": {
      "text/plain": [
       "(2.4904423802021347e-05, 2.0668752500369372e-05)"
      ]
     },
     "execution_count": 24,
     "metadata": {},
     "output_type": "execute_result"
    }
   ],
   "source": [
    "(np.linalg.norm(NR_NEIM(np.array([0.0, 0.5, -0.5, 2]), ro_sols[100]) - f_NEIM[100, 100]) / np.linalg.norm(f_NEIM[100, 100]),\n",
    "  np.linalg.norm(NR_NEIM(np.array([0.0, 0.5, -0.5, 2]), ro_sols[100]) - f_NEIM[100, 100]))"
   ]
  },
  {
   "cell_type": "code",
   "execution_count": 25,
   "metadata": {},
   "outputs": [
    {
     "data": {
      "text/plain": [
       "(array([ 0.26432445,  0.78637389, -0.02225876, -0.00491231,  0.0010932 ]),\n",
       " array([ 0.26430967,  0.7863608 , -0.02226445, -0.00491462,  0.00109301],\n",
       "       dtype=float32))"
      ]
     },
     "execution_count": 25,
     "metadata": {},
     "output_type": "execute_result"
    }
   ],
   "source": [
    "f_NEIM[100, 100], NR_NEIM(np.array([0.0, 0.5, -0.5, 2]), ro_sols[100])"
   ]
  },
  {
   "cell_type": "code",
   "execution_count": null,
   "metadata": {},
   "outputs": [],
   "source": []
  },
  {
   "cell_type": "code",
   "execution_count": null,
   "metadata": {},
   "outputs": [],
   "source": []
  }
 ],
 "metadata": {
  "kernelspec": {
   "display_name": "Python 3",
   "language": "python",
   "name": "python3"
  },
  "language_info": {
   "codemirror_mode": {
    "name": "ipython",
    "version": 3
   },
   "file_extension": ".py",
   "mimetype": "text/x-python",
   "name": "python",
   "nbconvert_exporter": "python",
   "pygments_lexer": "ipython3",
   "version": "3.7.2"
  }
 },
 "nbformat": 4,
 "nbformat_minor": 2
}
